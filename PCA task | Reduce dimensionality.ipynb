{
 "cells": [
  {
   "cell_type": "code",
   "execution_count": null,
   "metadata": {},
   "outputs": [],
   "source": [
    "import pandas as pd\n",
    "import numpy as np\n",
    "from sklearn.model_selection import train_test_split\n",
    "from sklearn.decomposition import PCA\n",
    "\n",
    "# TASK 1.1 CLEANING THE DATA\n",
    "airline = pd.read_csv('airline_small.csv', encoding='ISO-8859-1', low_memory = False)\n",
    "\n",
    "bad_columns = ['TailNum', 'Cancelled', 'Diverted', 'TaxiIn', 'TaxiOut', 'CancellationCode', 'CarrierDelay',\n",
    "               'WeatherDelay', 'NASDelay', 'SecurityDelay', 'LateAircraftDelay']\n",
    "\n",
    "airline_sub = airline[airline.columns.difference(bad_columns)]\n",
    "airline_clean = airline_sub.dropna()\n",
    "airline_clean = airline_clean.select_dtypes(['number'])\n",
    "\n",
    "# TASK 1.2 CREATING TRAINING AND TEST SETS\n",
    "target = (airline_clean['ArrDelay'] > 20).astype(int)\n",
    "features = airline_clean[airline_clean.columns.difference(['ArrDelay'])]\n",
    "x_train, x_test, y_train, y_test = train_test_split(features, target, test_size=0.3, random_state=0)\n",
    "\n",
    "# TASK 1.3 STANDARDIZE THE DATA\n",
    "x_train_mean = x_train.mean()\n",
    "x_train_std = x_train.std()\n",
    "x_train_norm = (x_train - x_train_mean) / x_train_std\n",
    "x_test_norm = (x_test - x_train_mean) / x_train_std\n",
    "\n",
    "# TASK 1.4 PCA\n",
    "pca = PCA()\n",
    "pca.fit(x_train_norm)\n",
    "explain_var = 100 * pca.explained_variance_ratio_\n",
    "cum_var = np.cumsum(explain_var)\n",
    "good_dimensions = (cum_var <= 85).astype(int)\n",
    "n_components = sum(good_dimensions) + 1\n",
    "\n",
    "# TASK 1.5 PCA TO REDUCE THE DIMENSIONALITY OF OUR DATA\n",
    "pca = PCA(n_components = n_components)\n",
    "pca.fit(x_train_norm)\n",
    "\n",
    "\n",
    "x_train_white = pca.transform(x_train_norm)\n",
    "x_test_white = pca.transform(x_test_norm)\n",
    "\n",
    "print(x_train_white[:5])\n",
    "print(x_test_white[:5])"
   ]
  }
 ],
 "metadata": {
  "kernelspec": {
   "display_name": "Python 3",
   "language": "python",
   "name": "python3"
  },
  "language_info": {
   "codemirror_mode": {
    "name": "ipython",
    "version": 3
   },
   "file_extension": ".py",
   "mimetype": "text/x-python",
   "name": "python",
   "nbconvert_exporter": "python",
   "pygments_lexer": "ipython3",
   "version": "3.6.5"
  }
 },
 "nbformat": 4,
 "nbformat_minor": 2
}
